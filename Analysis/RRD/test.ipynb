{
 "cells": [
  {
   "cell_type": "code",
   "id": "initial_id",
   "metadata": {
    "collapsed": true,
    "ExecuteTime": {
     "end_time": "2024-11-20T09:15:15.737595Z",
     "start_time": "2024-11-20T09:15:15.718665Z"
    }
   },
   "source": [
    "from railroad import Diagram, Choice\n",
    "\n",
    "diagram = Diagram(\"foo\", Choice(0, \"bar\", \"baz\"))\n",
    "\n",
    "with open(\"diagram.svg\", \"w\") as f:\n",
    "    diagram.writeSvg(f.write)\n"
   ],
   "outputs": [],
   "execution_count": 3
  },
  {
   "metadata": {
    "ExecuteTime": {
     "end_time": "2024-11-20T09:20:27.444956Z",
     "start_time": "2024-11-20T09:20:27.430993Z"
    }
   },
   "cell_type": "code",
   "source": [
    "custom_css = \"\"\"\n",
    ".railroad-diagram text {\n",
    "    font-size: 14px;\n",
    "    fill: #2b8cbe;\n",
    "}\n",
    "\"\"\"\n",
    "\n",
    "diagram = Diagram(\"foo\", Choice(0, \"bar\", \"baz\"), css=custom_css)\n",
    "\n",
    "# 保存带自定义样式的 SVG\n",
    "with open(\"styled_diagram.svg\", \"w\") as f:\n",
    "    diagram.writeStandalone(f.write)\n"
   ],
   "id": "1e613d3cd3f162d8",
   "outputs": [],
   "execution_count": 10
  },
  {
   "metadata": {
    "ExecuteTime": {
     "end_time": "2024-11-20T09:20:34.648072Z",
     "start_time": "2024-11-20T09:20:34.633176Z"
    }
   },
   "cell_type": "code",
   "source": [
    "import os\n",
    "print(\"Current：\", os.getcwd())\n"
   ],
   "id": "3b7360671b5ff71f",
   "outputs": [
    {
     "name": "stdout",
     "output_type": "stream",
     "text": [
      "Current： D:\\AISE_Project\\RRD\n"
     ]
    }
   ],
   "execution_count": 11
  }
 ],
 "metadata": {
  "kernelspec": {
   "display_name": "Python 3",
   "language": "python",
   "name": "python3"
  },
  "language_info": {
   "codemirror_mode": {
    "name": "ipython",
    "version": 2
   },
   "file_extension": ".py",
   "mimetype": "text/x-python",
   "name": "python",
   "nbconvert_exporter": "python",
   "pygments_lexer": "ipython2",
   "version": "2.7.6"
  }
 },
 "nbformat": 4,
 "nbformat_minor": 5
}
