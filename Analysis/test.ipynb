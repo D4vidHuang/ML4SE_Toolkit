{
 "cells": [
  {
   "cell_type": "code",
   "id": "initial_id",
   "metadata": {
    "collapsed": true,
    "ExecuteTime": {
     "end_time": "2025-01-23T19:29:51.729975Z",
     "start_time": "2025-01-23T19:29:47.637453Z"
    }
   },
   "source": [
    "from tree_sitter import Language, Parser\n",
    "Language.build_library(\n",
    "    'build/my-languages.so', \n",
    "    ['tree-sitter-java']      \n",
    ")\n",
    "\n",
    "JAVA_LANGUAGE = Language('build/my-languages.so', 'java')\n",
    "parser = Parser()\n",
    "parser.set_language(JAVA_LANGUAGE)\n",
    "\n",
    "with open('../Data/Solution.java', 'r') as file:\n",
    "    source_code = file.read()\n",
    "\n",
    "tree = parser.parse(bytes(source_code, 'utf8'))\n",
    "\n",
    "def traverse(node, stats=None):\n",
    "    if stats is None:\n",
    "        stats = {}\n",
    "    node_type = node.type\n",
    "    stats[node_type] = stats.get(node_type, 0) + 1\n",
    "    for child in node.children:\n",
    "        traverse(child, stats)\n",
    "    return stats\n",
    "\n",
    "root_node = tree.root_node\n",
    "stats = traverse(root_node)\n",
    "print(\"Syntax Node Statistics:\", stats)\n"
   ],
   "outputs": [
    {
     "name": "stdout",
     "output_type": "stream",
     "text": [
      "Syntax Node Statistics: {'program': 1, 'package_declaration': 1, 'package': 1, 'scoped_identifier': 5, 'identifier': 34, '.': 9, ';': 10, 'line_comment': 3, 'import_declaration': 2, 'import': 2, 'class_declaration': 1, 'modifiers': 2, 'public': 2, 'class': 1, 'class_body': 1, '{': 6, 'method_declaration': 1, 'array_type': 2, 'integral_type': 6, 'int': 6, 'dimensions': 4, '[': 6, ']': 6, 'formal_parameters': 1, '(': 7, 'formal_parameter': 2, ',': 5, ')': 7, 'block': 3, 'local_variable_declaration': 3, 'generic_type': 2, 'type_identifier': 5, 'type_arguments': 2, '<': 3, '>': 2, 'variable_declarator': 3, '=': 3, 'object_creation_expression': 1, 'new': 3, 'argument_list': 4, 'for_statement': 1, 'for': 1, 'decimal_integer_literal': 3, 'binary_expression': 2, 'field_access': 1, 'update_expression': 1, '++': 1, '-': 3, 'array_access': 2, 'if_statement': 1, 'if': 1, 'parenthesized_expression': 1, 'method_invocation': 3, 'return_statement': 2, 'return': 2, 'array_creation_expression': 2, 'array_initializer': 2, '}': 6, 'expression_statement': 1, 'unary_expression': 2}\n"
     ]
    },
    {
     "name": "stderr",
     "output_type": "stream",
     "text": [
      "/opt/anaconda3/envs/AISE_Project/lib/python3.12/site-packages/tree_sitter/__init__.py:36: FutureWarning: Language(path, name) is deprecated. Use Language(ptr, name) instead.\n",
      "  warn(\"{} is deprecated. Use {} instead.\".format(old, new), FutureWarning)\n"
     ]
    }
   ],
   "execution_count": 6
  },
  {
   "metadata": {
    "ExecuteTime": {
     "end_time": "2025-01-23T19:30:55.457074Z",
     "start_time": "2025-01-23T19:30:55.452920Z"
    }
   },
   "cell_type": "code",
   "source": [
    "import re\n",
    "\n",
    "def parse_ebnf(file_path):\n",
    "    rules = {}\n",
    "    with open(file_path, 'r') as file:\n",
    "        for line in file:\n",
    "            match = re.match(r'^(\\w+)\\s*::=\\s*(.+)$', line)\n",
    "            if match:\n",
    "                rule_name, definition = match.groups()\n",
    "                rules[rule_name] = definition.strip()\n",
    "    return rules\n",
    "ebnf_rules = parse_ebnf('java/java.ebnf')\n",
    "print(\"Extracted EBNF Rules:\", ebnf_rules)\n"
   ],
   "id": "c9cb2871e920f2b0",
   "outputs": [
    {
     "name": "stdout",
     "output_type": "stream",
     "text": [
      "Extracted EBNF Rules: {'extras': '{ line_comment block_comment /\\\\s/ }', 'supertypes': '{ expression declaration statement primary_expression _literal _type _simple_type _unannotated_type module_directive }', 'inline': '{ _name _simple_type _class_body_declaration _variable_initializer }', 'conflicts': '{ { modifiers annotated_type receiver_parameter } { modifiers annotated_type module_declaration package_declaration } { _unannotated_type primary_expression inferred_parameters } { _unannotated_type primary_expression } { _unannotated_type primary_expression scoped_type_identifier } { _unannotated_type scoped_type_identifier } { _unannotated_type generic_type } { generic_type primary_expression } { expression statement } { lambda_expression primary_expression } { inferred_parameters primary_expression } { argument_list record_pattern_body } { yield_statement _reserved_identifier } }', 'word': 'identifier'}\n"
     ]
    }
   ],
   "execution_count": 7
  },
  {
   "metadata": {
    "ExecuteTime": {
     "end_time": "2025-01-23T19:31:03.604491Z",
     "start_time": "2025-01-23T19:31:03.601365Z"
    }
   },
   "cell_type": "code",
   "source": [
    "def match_rules_with_ast(stats, ebnf_rules):\n",
    "    rule_stats = {}\n",
    "    for rule_name in ebnf_rules:\n",
    "        if rule_name in stats:\n",
    "            rule_stats[rule_name] = stats[rule_name]\n",
    "    return rule_stats\n",
    "\n",
    "rule_stats = match_rules_with_ast(stats, ebnf_rules)\n",
    "print(\"Rule-Based Statistics:\", rule_stats)\n"
   ],
   "id": "94dcef97d748241a",
   "outputs": [
    {
     "name": "stdout",
     "output_type": "stream",
     "text": [
      "Rule-Based Statistics: {}\n"
     ]
    }
   ],
   "execution_count": 8
  },
  {
   "metadata": {
    "ExecuteTime": {
     "end_time": "2025-01-23T19:40:10.996702Z",
     "start_time": "2025-01-23T19:40:10.991188Z"
    }
   },
   "cell_type": "code",
   "source": [
    "import os\n",
    "import re\n",
    "from tree_sitter import Language, Parser\n",
    "\n",
    "if not os.path.exists('build'):\n",
    "    os.mkdir('build')\n",
    "\n",
    "Language.build_library(\n",
    "    'build/my-languages.so',\n",
    "    [\n",
    "        'tree-sitter-java' \n",
    "    ]\n",
    ")\n",
    "\n",
    "JAVA_LANGUAGE = Language('build/my-languages.so', 'java')\n",
    "\n",
    "parser = Parser()\n",
    "parser.set_language(JAVA_LANGUAGE)\n",
    "\n",
    "with open('../Data/Solution.java', 'r', encoding='utf-8') as file:\n",
    "    source_code = file.read()\n",
    "\n",
    "tree = parser.parse(bytes(source_code, 'utf8'))\n",
    "\n",
    "def traverse(node, stats=None):\n",
    "    if stats is None:\n",
    "        stats = {}\n",
    "    node_type = node.type\n",
    "    stats[node_type] = stats.get(node_type, 0) + 1\n",
    "    for child in node.children:\n",
    "        traverse(child, stats)\n",
    "    return stats\n",
    "\n",
    "root_node = tree.root_node\n",
    "stats = traverse(root_node)\n",
    "print(\"Syntax Node Statistics:\", stats)\n"
   ],
   "id": "701e2b2ef20e36e3",
   "outputs": [
    {
     "name": "stdout",
     "output_type": "stream",
     "text": [
      "Syntax Node Statistics: {'program': 1, 'package_declaration': 1, 'package': 1, 'scoped_identifier': 5, 'identifier': 34, '.': 9, ';': 10, 'line_comment': 3, 'import_declaration': 2, 'import': 2, 'class_declaration': 1, 'modifiers': 2, 'public': 2, 'class': 1, 'class_body': 1, '{': 6, 'method_declaration': 1, 'array_type': 2, 'integral_type': 6, 'int': 6, 'dimensions': 4, '[': 6, ']': 6, 'formal_parameters': 1, '(': 7, 'formal_parameter': 2, ',': 5, ')': 7, 'block': 3, 'local_variable_declaration': 3, 'generic_type': 2, 'type_identifier': 5, 'type_arguments': 2, '<': 3, '>': 2, 'variable_declarator': 3, '=': 3, 'object_creation_expression': 1, 'new': 3, 'argument_list': 4, 'for_statement': 1, 'for': 1, 'decimal_integer_literal': 3, 'binary_expression': 2, 'field_access': 1, 'update_expression': 1, '++': 1, '-': 3, 'array_access': 2, 'if_statement': 1, 'if': 1, 'parenthesized_expression': 1, 'method_invocation': 3, 'return_statement': 2, 'return': 2, 'array_creation_expression': 2, 'array_initializer': 2, '}': 6, 'expression_statement': 1, 'unary_expression': 2}\n"
     ]
    }
   ],
   "execution_count": 13
  },
  {
   "metadata": {
    "ExecuteTime": {
     "end_time": "2025-01-23T19:40:21.860467Z",
     "start_time": "2025-01-23T19:40:21.855350Z"
    }
   },
   "cell_type": "code",
   "source": [
    "def parse_ebnf(file_path):\n",
    "    rules = {}\n",
    "    pattern = re.compile(r'(\\w+)\\s*::=\\s*([^=]+)')\n",
    "\n",
    "    with open(file_path, 'r', encoding='utf-8') as file:\n",
    "        for line in file:\n",
    "            line = line.strip()\n",
    "\n",
    "            if not line or line.startswith(';'):\n",
    "                continue\n",
    "            \n",
    "            matches = pattern.findall(line)\n",
    "            for match in matches:\n",
    "                rule_name, definition = match\n",
    "                rule_name = rule_name.strip()\n",
    "                definition = definition.strip()\n",
    "                rules[rule_name] = definition\n",
    "\n",
    "    return rules\n",
    "\n",
    "ebnf_rules = parse_ebnf('java/java.ebnf')\n",
    "print(\"Extracted EBNF Rules:\", ebnf_rules.keys())\n"
   ],
   "id": "fb73874014f4b66a",
   "outputs": [
    {
     "name": "stdout",
     "output_type": "stream",
     "text": [
      "Extracted EBNF Rules: dict_keys(['extras', 'supertypes', 'inline', 'conflicts', 'word', 'program', '_toplevel_statement', '_literal', 'decimal_integer_literal', 'hex_integer_literal', 'octal_integer_literal', 'binary_integer_literal', 'decimal_floating_point_literal', 'hex_floating_point_literal', 'true', 'false', 'character_literal', 'string_literal', '_string_literal', '_multiline_string_literal', 'string_fragment', '_multiline_string_fragment', 'string_interpolation', '_escape_sequence', 'escape_sequence', 'null_literal', 'expression', 'cast_expression', 'assignment_expression', 'binary_expression', 'instanceof_expression', 'lambda_expression', 'inferred_parameters', 'ternary_expression', 'unary_expression', 'update_expression', 'primary_expression', 'array_creation_expression', 'dimensions_expr', 'parenthesized_expression', 'class_literal', 'object_creation_expression', '_unqualified_object_creation_expression', 'field_access', 'template_expression', 'array_access', 'method_invocation', 'argument_list', 'method_reference', 'type_arguments', 'wildcard', '_wildcard_bounds', 'dimensions', 'switch_expression', 'switch_block', 'switch_block_statement_group', 'switch_rule', 'switch_label', 'pattern', 'type_pattern', 'record_pattern', 'record_pattern_body', 'record_pattern_component', 'underscore_pattern', 'guard', 'statement', 'block', 'expression_statement', 'labeled_statement', 'assert_statement', 'do_statement', 'break_statement', 'continue_statement', 'return_statement', 'yield_statement', 'synchronized_statement', 'throw_statement', 'try_statement', 'catch_clause', 'catch_formal_parameter', 'catch_type', 'finally_clause', 'try_with_resources_statement', 'resource_specification', 'resource', 'if_statement', 'while_statement', 'for_statement', 'enhanced_for_statement', '_annotation', 'marker_annotation', 'annotation', 'annotation_argument_list', 'element_value_pair', '_element_value', 'element_value_array_initializer', 'declaration', 'module_declaration', 'module_body', 'module_directive', 'requires_module_directive', 'requires_modifier', 'exports_module_directive', 'opens_module_directive', 'uses_module_directive', 'provides_module_directive', 'package_declaration', 'import_declaration', 'asterisk', 'enum_declaration', 'enum_body', 'enum_body_declarations', 'enum_constant', 'class_declaration', 'modifiers', 'type_parameters', 'type_parameter', 'type_bound', 'superclass', 'super_interfaces', 'type_list', 'permits', 'class_body', '_class_body_declaration', 'static_initializer', 'constructor_declaration', '_constructor_declarator', 'constructor_body', 'explicit_constructor_invocation', '_name', 'scoped_identifier', 'field_declaration', 'record_declaration', 'annotation_type_declaration', 'annotation_type_body', 'annotation_type_element_declaration', '_default_value', 'interface_declaration', 'extends_interfaces', 'interface_body', 'constant_declaration', '_variable_declarator_list', 'variable_declarator', '_variable_declarator_id', '_variable_initializer', 'array_initializer', '_type', '_unannotated_type', '_simple_type', 'annotated_type', 'scoped_type_identifier', 'generic_type', 'array_type', 'integral_type', 'floating_point_type', 'boolean_type', 'void_type', '_method_header', '_method_declarator', 'formal_parameters', 'formal_parameter', 'receiver_parameter', 'spread_parameter', 'throws', 'local_variable_declaration', 'method_declaration', 'compact_constructor_declaration', '_reserved_identifier', 'this', 'super', 'identifier', 'line_comment', 'block_comment'])\n"
     ]
    },
    {
     "name": "stderr",
     "output_type": "stream",
     "text": [
      "<>:4: SyntaxWarning: invalid escape sequence '\\w'\n",
      "<>:4: SyntaxWarning: invalid escape sequence '\\w'\n",
      "/var/folders/__/877f40nx3jl8t9qwrrs1flwr0000gn/T/ipykernel_11690/1494751947.py:4: SyntaxWarning: invalid escape sequence '\\w'\n",
      "  \"\"\"\n"
     ]
    }
   ],
   "execution_count": 14
  },
  {
   "metadata": {
    "ExecuteTime": {
     "end_time": "2025-01-23T19:40:34.061565Z",
     "start_time": "2025-01-23T19:40:34.058711Z"
    }
   },
   "cell_type": "code",
   "source": [
    "def match_rules_with_ast(stats, ebnf_rules):\n",
    "    rule_stats = {}\n",
    "    for rule_name in ebnf_rules:\n",
    "        if rule_name in stats:\n",
    "            rule_stats[rule_name] = stats[rule_name]\n",
    "    return rule_stats\n",
    "\n",
    "rule_stats = match_rules_with_ast(stats, ebnf_rules)\n",
    "print(\"Rule-Based Statistics:\", rule_stats)\n"
   ],
   "id": "c80e3e6db30733ee",
   "outputs": [
    {
     "name": "stdout",
     "output_type": "stream",
     "text": [
      "Rule-Based Statistics: {'program': 1, 'decimal_integer_literal': 3, 'binary_expression': 2, 'unary_expression': 2, 'update_expression': 1, 'array_creation_expression': 2, 'parenthesized_expression': 1, 'object_creation_expression': 1, 'field_access': 1, 'array_access': 2, 'method_invocation': 3, 'argument_list': 4, 'type_arguments': 2, 'dimensions': 4, 'block': 3, 'expression_statement': 1, 'return_statement': 2, 'if_statement': 1, 'for_statement': 1, 'package_declaration': 1, 'import_declaration': 2, 'class_declaration': 1, 'modifiers': 2, 'class_body': 1, 'scoped_identifier': 5, 'variable_declarator': 3, 'array_initializer': 2, 'generic_type': 2, 'array_type': 2, 'integral_type': 6, 'formal_parameters': 1, 'formal_parameter': 2, 'local_variable_declaration': 3, 'method_declaration': 1, 'identifier': 34, 'line_comment': 3}\n"
     ]
    }
   ],
   "execution_count": 15
  },
  {
   "metadata": {
    "ExecuteTime": {
     "end_time": "2025-01-23T19:46:56.772374Z",
     "start_time": "2025-01-23T19:46:56.725454Z"
    }
   },
   "cell_type": "code",
   "source": [
    "import re\n",
    "import os\n",
    "from RRD.railroad import (\n",
    "    Diagram,\n",
    "    Sequence,\n",
    "    Terminal,\n",
    "    NonTerminal,\n",
    "    Skip,\n",
    "    Style,\n",
    ")\n",
    "\n",
    "def parse_ebnf_line(line: str):\n",
    "    line = line.strip()\n",
    "    if not line or line.startswith(\";\"):\n",
    "        return None\n",
    "\n",
    "    match = re.match(r'^(\\w+)\\s*::=\\s*(.+)$', line)\n",
    "    if match:\n",
    "        rule_name, definition = match.groups()\n",
    "        return rule_name.strip(), definition.strip()\n",
    "    return None\n",
    "\n",
    "def definition_to_diagram_items(definition: str):\n",
    "\n",
    "    tokens = definition.split()\n",
    "\n",
    "    diagram_items = []\n",
    "    for token in tokens:\n",
    "        token = token.strip()\n",
    "        if not token:\n",
    "            continue\n",
    "\n",
    "        if (token.startswith(\"'\") and token.endswith(\"'\")) or (token.startswith('\"') and token.endswith('\"')):\n",
    "            literal = token[1:-1]\n",
    "            diagram_items.append(Terminal(literal))\n",
    "        else:\n",
    "            diagram_items.append(NonTerminal(token))\n",
    "\n",
    "    return [Sequence(*diagram_items)]\n",
    "\n",
    "def generate_railroad(rule_name: str, definition: str) -> Diagram:\n",
    "\n",
    "    items = definition_to_diagram_items(definition)\n",
    "    if len(items) == 1:\n",
    "        main_seq = items[0]\n",
    "    else:\n",
    "        main_seq = Sequence(*items)\n",
    "\n",
    "    diagram = Diagram(\n",
    "        main_seq\n",
    "\n",
    "    )\n",
    "    return diagram\n",
    "\n",
    "\n",
    "def save_diagram_as_svg(diagram: Diagram, out_file: str):\n",
    "\n",
    "    diagram.format()\n",
    "    with open(out_file, \"w\", encoding=\"utf-8\") as f:\n",
    "        diagram.writeStandalone(f.write)\n",
    "\n",
    "\n",
    "def main():\n",
    "    ebnf_file = \"java/java.ebnf\"\n",
    "    out_dir = \"railroads\"\n",
    "    os.makedirs(out_dir, exist_ok=True)\n",
    "\n",
    "    rules = {}\n",
    "    with open(ebnf_file, \"r\", encoding=\"utf-8\") as f:\n",
    "        for line in f:\n",
    "            parsed = parse_ebnf_line(line)\n",
    "            if parsed is None:\n",
    "                continue\n",
    "            rule_name, definition = parsed\n",
    "            rules[rule_name] = definition\n",
    "\n",
    "    for rule_name, definition in rules.items():\n",
    "        svg_path = os.path.join(out_dir, f\"{rule_name}.svg\")\n",
    "        diagram = generate_railroad(rule_name, definition)\n",
    "        save_diagram_as_svg(diagram, svg_path)\n",
    "        print(f\"Generated {svg_path}\")\n",
    "\n",
    "if __name__ == \"__main__\":\n",
    "    main()\n"
   ],
   "id": "f92afd0693dbe43c",
   "outputs": [
    {
     "name": "stdout",
     "output_type": "stream",
     "text": [
      "[OK] Generated railroads/extras.svg\n",
      "[OK] Generated railroads/supertypes.svg\n",
      "[OK] Generated railroads/inline.svg\n",
      "[OK] Generated railroads/conflicts.svg\n",
      "[OK] Generated railroads/word.svg\n",
      "[OK] Generated railroads/program.svg\n",
      "[OK] Generated railroads/_toplevel_statement.svg\n",
      "[OK] Generated railroads/_literal.svg\n",
      "[OK] Generated railroads/decimal_integer_literal.svg\n",
      "[OK] Generated railroads/hex_integer_literal.svg\n",
      "[OK] Generated railroads/octal_integer_literal.svg\n",
      "[OK] Generated railroads/binary_integer_literal.svg\n",
      "[OK] Generated railroads/decimal_floating_point_literal.svg\n",
      "[OK] Generated railroads/hex_floating_point_literal.svg\n",
      "[OK] Generated railroads/true.svg\n",
      "[OK] Generated railroads/false.svg\n",
      "[OK] Generated railroads/character_literal.svg\n",
      "[OK] Generated railroads/string_literal.svg\n",
      "[OK] Generated railroads/_string_literal.svg\n",
      "[OK] Generated railroads/_multiline_string_literal.svg\n",
      "[OK] Generated railroads/string_fragment.svg\n",
      "[OK] Generated railroads/_multiline_string_fragment.svg\n",
      "[OK] Generated railroads/string_interpolation.svg\n",
      "[OK] Generated railroads/_escape_sequence.svg\n",
      "[OK] Generated railroads/escape_sequence.svg\n",
      "[OK] Generated railroads/null_literal.svg\n",
      "[OK] Generated railroads/expression.svg\n",
      "[OK] Generated railroads/cast_expression.svg\n",
      "[OK] Generated railroads/assignment_expression.svg\n",
      "[OK] Generated railroads/binary_expression.svg\n",
      "[OK] Generated railroads/instanceof_expression.svg\n",
      "[OK] Generated railroads/lambda_expression.svg\n",
      "[OK] Generated railroads/inferred_parameters.svg\n",
      "[OK] Generated railroads/ternary_expression.svg\n",
      "[OK] Generated railroads/unary_expression.svg\n",
      "[OK] Generated railroads/update_expression.svg\n",
      "[OK] Generated railroads/primary_expression.svg\n",
      "[OK] Generated railroads/array_creation_expression.svg\n",
      "[OK] Generated railroads/dimensions_expr.svg\n",
      "[OK] Generated railroads/parenthesized_expression.svg\n",
      "[OK] Generated railroads/class_literal.svg\n",
      "[OK] Generated railroads/object_creation_expression.svg\n",
      "[OK] Generated railroads/_unqualified_object_creation_expression.svg\n",
      "[OK] Generated railroads/field_access.svg\n",
      "[OK] Generated railroads/template_expression.svg\n",
      "[OK] Generated railroads/array_access.svg\n",
      "[OK] Generated railroads/method_invocation.svg\n",
      "[OK] Generated railroads/argument_list.svg\n",
      "[OK] Generated railroads/method_reference.svg\n",
      "[OK] Generated railroads/type_arguments.svg\n",
      "[OK] Generated railroads/wildcard.svg\n",
      "[OK] Generated railroads/_wildcard_bounds.svg\n",
      "[OK] Generated railroads/dimensions.svg\n",
      "[OK] Generated railroads/switch_expression.svg\n",
      "[OK] Generated railroads/switch_block.svg\n",
      "[OK] Generated railroads/switch_block_statement_group.svg\n",
      "[OK] Generated railroads/switch_rule.svg\n",
      "[OK] Generated railroads/switch_label.svg\n",
      "[OK] Generated railroads/pattern.svg\n",
      "[OK] Generated railroads/type_pattern.svg\n",
      "[OK] Generated railroads/record_pattern.svg\n",
      "[OK] Generated railroads/record_pattern_body.svg\n",
      "[OK] Generated railroads/record_pattern_component.svg\n",
      "[OK] Generated railroads/underscore_pattern.svg\n",
      "[OK] Generated railroads/guard.svg\n",
      "[OK] Generated railroads/statement.svg\n",
      "[OK] Generated railroads/block.svg\n",
      "[OK] Generated railroads/expression_statement.svg\n",
      "[OK] Generated railroads/labeled_statement.svg\n",
      "[OK] Generated railroads/assert_statement.svg\n",
      "[OK] Generated railroads/do_statement.svg\n",
      "[OK] Generated railroads/break_statement.svg\n",
      "[OK] Generated railroads/continue_statement.svg\n",
      "[OK] Generated railroads/return_statement.svg\n",
      "[OK] Generated railroads/yield_statement.svg\n",
      "[OK] Generated railroads/synchronized_statement.svg\n",
      "[OK] Generated railroads/throw_statement.svg\n",
      "[OK] Generated railroads/try_statement.svg\n",
      "[OK] Generated railroads/catch_clause.svg\n",
      "[OK] Generated railroads/catch_formal_parameter.svg\n",
      "[OK] Generated railroads/catch_type.svg\n",
      "[OK] Generated railroads/finally_clause.svg\n",
      "[OK] Generated railroads/try_with_resources_statement.svg\n",
      "[OK] Generated railroads/resource_specification.svg\n",
      "[OK] Generated railroads/resource.svg\n",
      "[OK] Generated railroads/if_statement.svg\n",
      "[OK] Generated railroads/while_statement.svg\n",
      "[OK] Generated railroads/for_statement.svg\n",
      "[OK] Generated railroads/enhanced_for_statement.svg\n",
      "[OK] Generated railroads/_annotation.svg\n",
      "[OK] Generated railroads/marker_annotation.svg\n",
      "[OK] Generated railroads/annotation.svg\n",
      "[OK] Generated railroads/annotation_argument_list.svg\n",
      "[OK] Generated railroads/element_value_pair.svg\n",
      "[OK] Generated railroads/_element_value.svg\n",
      "[OK] Generated railroads/element_value_array_initializer.svg\n",
      "[OK] Generated railroads/declaration.svg\n",
      "[OK] Generated railroads/module_declaration.svg\n",
      "[OK] Generated railroads/module_body.svg\n",
      "[OK] Generated railroads/module_directive.svg\n",
      "[OK] Generated railroads/requires_module_directive.svg\n",
      "[OK] Generated railroads/requires_modifier.svg\n",
      "[OK] Generated railroads/exports_module_directive.svg\n",
      "[OK] Generated railroads/opens_module_directive.svg\n",
      "[OK] Generated railroads/uses_module_directive.svg\n",
      "[OK] Generated railroads/provides_module_directive.svg\n",
      "[OK] Generated railroads/package_declaration.svg\n",
      "[OK] Generated railroads/import_declaration.svg\n",
      "[OK] Generated railroads/asterisk.svg\n",
      "[OK] Generated railroads/enum_declaration.svg\n",
      "[OK] Generated railroads/enum_body.svg\n",
      "[OK] Generated railroads/enum_body_declarations.svg\n",
      "[OK] Generated railroads/enum_constant.svg\n",
      "[OK] Generated railroads/class_declaration.svg\n",
      "[OK] Generated railroads/modifiers.svg\n",
      "[OK] Generated railroads/type_parameters.svg\n",
      "[OK] Generated railroads/type_parameter.svg\n",
      "[OK] Generated railroads/type_bound.svg\n",
      "[OK] Generated railroads/superclass.svg\n",
      "[OK] Generated railroads/super_interfaces.svg\n",
      "[OK] Generated railroads/type_list.svg\n",
      "[OK] Generated railroads/permits.svg\n",
      "[OK] Generated railroads/class_body.svg\n",
      "[OK] Generated railroads/_class_body_declaration.svg\n",
      "[OK] Generated railroads/static_initializer.svg\n",
      "[OK] Generated railroads/constructor_declaration.svg\n",
      "[OK] Generated railroads/_constructor_declarator.svg\n",
      "[OK] Generated railroads/constructor_body.svg\n",
      "[OK] Generated railroads/explicit_constructor_invocation.svg\n",
      "[OK] Generated railroads/_name.svg\n",
      "[OK] Generated railroads/scoped_identifier.svg\n",
      "[OK] Generated railroads/field_declaration.svg\n",
      "[OK] Generated railroads/record_declaration.svg\n",
      "[OK] Generated railroads/annotation_type_declaration.svg\n",
      "[OK] Generated railroads/annotation_type_body.svg\n",
      "[OK] Generated railroads/annotation_type_element_declaration.svg\n",
      "[OK] Generated railroads/_default_value.svg\n",
      "[OK] Generated railroads/interface_declaration.svg\n",
      "[OK] Generated railroads/extends_interfaces.svg\n",
      "[OK] Generated railroads/interface_body.svg\n",
      "[OK] Generated railroads/constant_declaration.svg\n",
      "[OK] Generated railroads/_variable_declarator_list.svg\n",
      "[OK] Generated railroads/variable_declarator.svg\n",
      "[OK] Generated railroads/_variable_declarator_id.svg\n",
      "[OK] Generated railroads/_variable_initializer.svg\n",
      "[OK] Generated railroads/array_initializer.svg\n",
      "[OK] Generated railroads/_type.svg\n",
      "[OK] Generated railroads/_unannotated_type.svg\n",
      "[OK] Generated railroads/_simple_type.svg\n",
      "[OK] Generated railroads/annotated_type.svg\n",
      "[OK] Generated railroads/scoped_type_identifier.svg\n",
      "[OK] Generated railroads/generic_type.svg\n",
      "[OK] Generated railroads/array_type.svg\n",
      "[OK] Generated railroads/integral_type.svg\n",
      "[OK] Generated railroads/floating_point_type.svg\n",
      "[OK] Generated railroads/boolean_type.svg\n",
      "[OK] Generated railroads/void_type.svg\n",
      "[OK] Generated railroads/_method_header.svg\n",
      "[OK] Generated railroads/_method_declarator.svg\n",
      "[OK] Generated railroads/formal_parameters.svg\n",
      "[OK] Generated railroads/formal_parameter.svg\n",
      "[OK] Generated railroads/receiver_parameter.svg\n",
      "[OK] Generated railroads/spread_parameter.svg\n",
      "[OK] Generated railroads/throws.svg\n",
      "[OK] Generated railroads/local_variable_declaration.svg\n",
      "[OK] Generated railroads/method_declaration.svg\n",
      "[OK] Generated railroads/compact_constructor_declaration.svg\n",
      "[OK] Generated railroads/_reserved_identifier.svg\n",
      "[OK] Generated railroads/this.svg\n",
      "[OK] Generated railroads/super.svg\n",
      "[OK] Generated railroads/identifier.svg\n",
      "[OK] Generated railroads/line_comment.svg\n",
      "[OK] Generated railroads/block_comment.svg\n"
     ]
    }
   ],
   "execution_count": 22
  }
 ],
 "metadata": {
  "kernelspec": {
   "display_name": "Python 3",
   "language": "python",
   "name": "python3"
  },
  "language_info": {
   "codemirror_mode": {
    "name": "ipython",
    "version": 2
   },
   "file_extension": ".py",
   "mimetype": "text/x-python",
   "name": "python",
   "nbconvert_exporter": "python",
   "pygments_lexer": "ipython2",
   "version": "2.7.6"
  }
 },
 "nbformat": 4,
 "nbformat_minor": 5
}
