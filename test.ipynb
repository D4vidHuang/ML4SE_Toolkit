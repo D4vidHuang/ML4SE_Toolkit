{
 "cells": [
  {
   "cell_type": "code",
   "execution_count": 8,
   "metadata": {
    "ExecuteTime": {
     "end_time": "2025-03-16T11:28:19.565233Z",
     "start_time": "2025-03-16T11:28:19.560930Z"
    }
   },
   "outputs": [
    {
     "name": "stdout",
     "output_type": "stream",
     "text": [
      "Not implemented: ERROR\n"
     ]
    },
    {
     "ename": "AttributeError",
     "evalue": "'NoneType' object has no attribute 'values'",
     "output_type": "error",
     "traceback": [
      "\u001b[0;31m---------------------------------------------------------------------------\u001b[0m",
      "\u001b[0;31mAttributeError\u001b[0m                            Traceback (most recent call last)",
      "Cell \u001b[0;32mIn[8], line 81\u001b[0m\n\u001b[1;32m     77\u001b[0m diagrams \u001b[38;5;241m=\u001b[39m visit(tree\u001b[38;5;241m.\u001b[39mroot_node)\n\u001b[1;32m     79\u001b[0m \u001b[38;5;66;03m# 7. 生成SVG输出\u001b[39;00m\n\u001b[1;32m     80\u001b[0m \u001b[38;5;66;03m# 假设我们要生成第一个规则的图表\u001b[39;00m\n\u001b[0;32m---> 81\u001b[0m first_rule \u001b[38;5;241m=\u001b[39m \u001b[38;5;28mlist\u001b[39m(diagrams\u001b[38;5;241m.\u001b[39mvalues())[\u001b[38;5;241m0\u001b[39m]\n\u001b[1;32m     83\u001b[0m \u001b[38;5;66;03m# 8. 将SVG保存到文件\u001b[39;00m\n\u001b[1;32m     84\u001b[0m \u001b[38;5;28;01mwith\u001b[39;00m \u001b[38;5;28mopen\u001b[39m(\u001b[38;5;124m'\u001b[39m\u001b[38;5;124moutput.svg\u001b[39m\u001b[38;5;124m'\u001b[39m, \u001b[38;5;124m'\u001b[39m\u001b[38;5;124mw\u001b[39m\u001b[38;5;124m'\u001b[39m) \u001b[38;5;28;01mas\u001b[39;00m f:\n",
      "\u001b[0;31mAttributeError\u001b[0m: 'NoneType' object has no attribute 'values'"
     ]
    }
   ],
   "source": [
    "# 1. 首先导入必要的库\n",
    "from tree_sitter import Language, Parser\n",
    "\n",
    "from RRD.railroad import Diagram, Terminal, NonTerminal, Choice, Sequence, Optional, OneOrMore, ZeroOrMore\n",
    "\n",
    "# 2. 设置EBNF解析器\n",
    "# 假设您的EBNF解析器已经编译并位于正确的位置\n",
    "# Language.build_library(\n",
    "#     'build/my-ebnf3.so',\n",
    "#     ['./tree-sitter-ebnf']\n",
    "# )\n",
    "EBNF_LANGUAGE = Language('./build/my-ebnf3.so', 'EBNF')\n",
    "parser = Parser()\n",
    "parser.set_language(EBNF_LANGUAGE)\n",
    "\n",
    "# 3. 读取EBNF文件\n",
    "with open('tree-sitter-ebnf-generator/examples/lua/lua.ebnf', 'r') as f:\n",
    "    ebnf_text = f.read()\n",
    "\n",
    "# 4. 解析EBNF\n",
    "tree = parser.parse(bytes(ebnf_text, 'utf8'))\n",
    "\n",
    "# 5. 定义visit函数来处理语法树\n",
    "def visit(node, diagrams = {}):\n",
    "    # 添加调试信息\n",
    "    print(f\"Processing node type: {node.type}\")\n",
    "    \n",
    "    match(node.type):\n",
    "        case 'source_file':\n",
    "            for i in range(len(node.children)):\n",
    "                diagrams = visit(node.children[i], diagrams)\n",
    "            return diagrams\n",
    "        case 'rule':\n",
    "            name = node.children[0].text.decode()\n",
    "            diagrams[name] = Diagram(visit(node.children[2])).setPhenomenon('rule')\n",
    "            return diagrams\n",
    "        case 'rhs':\n",
    "            return visit(node.children[0]).setPhenomenon('rhs')\n",
    "        case 'sequence':\n",
    "            blocks = []\n",
    "            for child in node.children:\n",
    "                blocks.append(visit(child))\n",
    "            return Sequence(*blocks).setPhenomenon('sequence')\n",
    "        case 'statements':\n",
    "            return visit(node.children[0]).setPhenomenon('statements')\n",
    "        case 'parenthesizedStatement':\n",
    "            return visit(node.children[1]).setPhenomenon('parenthesized')\n",
    "        case 'quantifiedStatement':\n",
    "            return visit(node.children[0]).setPhenomenon('quantified')\n",
    "        case 'selectionStatement':\n",
    "            blocks = []\n",
    "            for child in node.children:\n",
    "                if child.type == 'sequenceNoSelection':\n",
    "                    blocks.append(visit(child))\n",
    "            return Choice(len(blocks)//2, *blocks).setPhenomenon('selection')\n",
    "        case 'sequenceNoSelection':\n",
    "            blocks = []\n",
    "            for child in node.children:\n",
    "                blocks.append(visit(child))\n",
    "            return Sequence(*blocks).setPhenomenon('sequence_no_selection')\n",
    "        case 'statementsNoSelection':\n",
    "            return visit(node.children[0]).setPhenomenon('statements_no_selection')\n",
    "        case 'optional':\n",
    "            return Optional(visit(node.children[0])).setPhenomenon('optional')\n",
    "        case 'oneOrMore':\n",
    "            return OneOrMore(visit(node.children[0])).setPhenomenon('one_or_more')\n",
    "        case 'zeroOrMore':\n",
    "            return ZeroOrMore(visit(node.children[0])).setPhenomenon('zero_or_more')\n",
    "        case 'quantifierBase':\n",
    "            return visit(node.children[0]).setPhenomenon('quantifier_base')\n",
    "        case 'identifier':\n",
    "            return Terminal(node.text.decode()).setPhenomenon('identifier')\n",
    "        case _:\n",
    "            if len(node.children) > 0:\n",
    "                print(f'Not implemented node type: {node.type}')\n",
    "                print(f'Children types: {[child.type for child in node.children]}')\n",
    "                # 返回第一个子节点的结果，而不是直接返回None\n",
    "                return visit(node.children[0])\n",
    "            else:\n",
    "                # 如果是叶子节点，返回一个默认的Terminal\n",
    "                return Terminal(node.text.decode()).setPhenomenon('unknown')\n",
    "\n",
    "# 6. 处理语法树并生成图表\n",
    "diagrams = visit(tree.root_node)\n",
    "\n",
    "# 7. 生成SVG输出\n",
    "# 假设我们要生成第一个规则的图表\n",
    "first_rule = list(diagrams.values())[0]\n",
    "\n",
    "# 8. 将SVG保存到文件\n",
    "with open('output.svg', 'w') as f:\n",
    "    f.write('''<?xml version=\"1.0\" encoding=\"UTF-8\"?>\n",
    "    <!DOCTYPE svg PUBLIC \"-//W3C//DTD SVG 1.1//EN\" \"http://www.w3.org/Graphics/SVG/1.1/DTD/svg11.dtd\">\n",
    "    ''')\n",
    "    first_rule.writeStandalone(f.write)\n",
    "\n",
    "# 9. 在Jupyter中显示SVG\n",
    "from IPython.display import SVG\n",
    "SVG('output.svg')"
   ]
  }
 ],
 "metadata": {
  "kernelspec": {
   "display_name": "AISE_Project",
   "language": "python",
   "name": "python3"
  },
  "language_info": {
   "codemirror_mode": {
    "name": "ipython",
    "version": 3
   },
   "file_extension": ".py",
   "mimetype": "text/x-python",
   "name": "python",
   "nbconvert_exporter": "python",
   "pygments_lexer": "ipython3",
   "version": "3.12.8"
  }
 },
 "nbformat": 4,
 "nbformat_minor": 2
}
