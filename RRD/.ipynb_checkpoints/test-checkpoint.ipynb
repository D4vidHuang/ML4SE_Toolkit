{
 "cells": [
  {
   "cell_type": "code",
   "id": "initial_id",
   "metadata": {
    "collapsed": true,
    "ExecuteTime": {
     "end_time": "2024-11-20T09:11:26.209100Z",
     "start_time": "2024-11-20T09:11:26.193100Z"
    }
   },
   "source": [
    "import sys\n",
    "from railroad import Diagram, Choice\n",
    "d = Diagram(\"foo\", Choice(0, \"bar\", \"baz\"))\n",
    "d.writeSvg(sys.stdout.write)"
   ],
   "outputs": [
    {
     "name": "stdout",
     "output_type": "stream",
     "text": [
      "<svg class=\"railroad-diagram\" height=\"104\" viewBox=\"0 0 231.0 104\" width=\"231.0\">\n",
      "<g transform=\"translate(.5 .5)\">\n",
      "<g>\n",
      "<path d=\"M20 21v20m10 -20v20m-10 -10h20\" /></g><path d=\"M40 31h10\" /><g class=\"terminal \">\n",
      "<path d=\"M50 31h0.0\" /><path d=\"M95.5 31h0.0\" /><rect height=\"22\" rx=\"10\" ry=\"10\" width=\"45.5\" x=\"50\" y=\"20\"></rect><text x=\"72.75\" y=\"35\">foo</text></g><path d=\"M95.5 31h10\" /><g>\n",
      "<path d=\"M105.5 31h0.0\" /><path d=\"M191.0 31h0.0\" /><path d=\"M105.5 31h20\" /><g class=\"terminal \">\n",
      "<path d=\"M125.5 31h0.0\" /><path d=\"M171.0 31h0.0\" /><rect height=\"22\" rx=\"10\" ry=\"10\" width=\"45.5\" x=\"125.5\" y=\"20\"></rect><text x=\"148.25\" y=\"35\">bar</text></g><path d=\"M171.0 31h20\" /><path d=\"M105.5 31a10 10 0 0 1 10 10v22a10 10 0 0 0 10 10\" /><g class=\"terminal \">\n",
      "<path d=\"M125.5 73h0.0\" /><path d=\"M171.0 73h0.0\" /><rect height=\"22\" rx=\"10\" ry=\"10\" width=\"45.5\" x=\"125.5\" y=\"62\"></rect><text x=\"148.25\" y=\"77\">baz</text></g><path d=\"M171.0 73a10 10 0 0 0 10 -10v-22a10 10 0 0 1 10 -10\" /></g><path d=\"M 191.0 31 h 20 m -10 -10 v 20 m 10 -20 v 20\"></path></g></svg>"
     ]
    }
   ],
   "execution_count": 2
  }
 ],
 "metadata": {
  "kernelspec": {
   "display_name": "Python 3",
   "language": "python",
   "name": "python3"
  },
  "language_info": {
   "codemirror_mode": {
    "name": "ipython",
    "version": 2
   },
   "file_extension": ".py",
   "mimetype": "text/x-python",
   "name": "python",
   "nbconvert_exporter": "python",
   "pygments_lexer": "ipython2",
   "version": "2.7.6"
  }
 },
 "nbformat": 4,
 "nbformat_minor": 5
}
